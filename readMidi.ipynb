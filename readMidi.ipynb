{
  "nbformat": 4,
  "nbformat_minor": 0,
  "metadata": {
    "colab": {
      "name": "midiReader.ipynb",
      "provenance": []
    },
    "kernelspec": {
      "name": "python3",
      "display_name": "Python 3"
    },
    "language_info": {
      "name": "python"
    }
  },
  "cells": [
    {
      "cell_type": "code",
      "execution_count": 1,
      "metadata": {
        "id": "ZX92vNC8kdh0"
      },
      "outputs": [],
      "source": [
        "![ -e python3-midi-master.zip ] || curl -LJO https://github.com/louisabraham/python3-midi/archive/refs/heads/master.zip  &> /dev/null\n",
        "![ -d python3-midi-master ] || unzip python3-midi-master.zip &> /dev/null\n",
        "!apt install swig &> /dev/null && cd python3-midi-master && python3 setup.py install &> /dev/null"
      ]
    },
    {
      "cell_type": "code",
      "source": [
        "import midi\n",
        "import sys\n",
        "from collections import defaultdict\n",
        "\n",
        "def getData(midi_file_path):\n",
        "    tracks = midi.read_midifile(midi_file_path)\n",
        "    ranges = [[] for _ in range(len(tracks))]\n",
        "\n",
        "    for evt in tracks[0]:\n",
        "        if isinstance(evt, midi.SetTempoEvent):\n",
        "            deltaSec = 60 / (evt.bpm * tracks.resolution) # seconds per tick\n",
        "            break\n",
        "    for i, track in enumerate(tracks):\n",
        "        time = 0.0\n",
        "        pitches = defaultdict(list)\n",
        "        for evt in track:\n",
        "            time += evt.tick * deltaSec\n",
        "            if not isinstance(evt, midi.NoteOnEvent): continue\n",
        "            if isinstance(evt, midi.NoteOffEvent) or evt.velocity == 0:\n",
        "                pitches[evt.pitch][-1][1] = time # end\n",
        "            else:\n",
        "                pitches[evt.pitch].append([time, -1]) # start\n",
        "        ranges[i] = sorted(list({tuple(arr) for vals in pitches.values() for arr in vals})) # remove duplicated keys\n",
        "    return ranges\n",
        "\n",
        "path = '/content/DJ Yoshitaka - FLOWER.mid'\n",
        "\n",
        "try:\n",
        "    data = getData(path)\n",
        "except:\n",
        "    print(f\"Can't read file {path}.\")\n",
        "    exit()\n",
        "\n",
        "try:\n",
        "    with open('midi.txt', 'w') as f:\n",
        "        f.write(str([[list(tup) for tup in arr] for arr in data]))\n",
        "except:\n",
        "    print(\"Can't write to midi.txt.\")\n",
        "print('succeed')"
      ],
      "metadata": {
        "colab": {
          "base_uri": "https://localhost:8080/"
        },
        "id": "nByMOIm_ke66",
        "outputId": "f1234dbb-4da5-4cd1-e175-8042a520be9b"
      },
      "execution_count": 2,
      "outputs": [
        {
          "output_type": "stream",
          "name": "stdout",
          "text": [
            "succeed\n"
          ]
        }
      ]
    }
  ]
}